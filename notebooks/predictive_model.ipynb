{
 "cells": [
  {
   "cell_type": "code",
   "execution_count": null,
   "id": "be21a46e",
   "metadata": {},
   "outputs": [
    {
     "ename": "",
     "evalue": "",
     "output_type": "error",
     "traceback": [
      "\u001b[1;31mRunning cells with 'Python 3.13.1' requires the ipykernel package.\n",
      "\u001b[1;31mRun the following command to install 'ipykernel' into the Python environment. \n",
      "\u001b[1;31mCommand: '/opt/homebrew/bin/python3 -m pip install ipykernel -U --user --force-reinstall'"
     ]
    }
   ],
   "source": [
    "# 📦 Core Libraries\n",
    "import pandas as pd\n",
    "import numpy as np\n",
    "import matplotlib.pyplot as plt\n",
    "import seaborn as sns\n",
    "from sklearn.ensemble import IsolationForest\n",
    "import warnings\n",
    "\n",
    "warnings.filterwarnings('ignore')\n",
    "sns.set(style=\"darkgrid\")\n"
   ]
  },
  {
   "cell_type": "code",
   "execution_count": null,
   "id": "59ce17ee",
   "metadata": {},
   "outputs": [],
   "source": [
    "# 📂 Load sensor data\n",
    "df = pd.read_csv(\"../data/sensor_data.csv\", parse_dates=[\"timestamp\"])\n",
    "df.set_index(\"timestamp\", inplace=True)\n",
    "\n",
    "# Quick overview\n",
    "df.head()\n"
   ]
  },
  {
   "cell_type": "code",
   "execution_count": null,
   "id": "57d2c873",
   "metadata": {},
   "outputs": [],
   "source": [
    "# Summary statistics\n",
    "df.describe()\n"
   ]
  },
  {
   "cell_type": "code",
   "execution_count": null,
   "id": "bd7aee1a",
   "metadata": {},
   "outputs": [],
   "source": [
    "# 📈 Sensor Trends\n",
    "plt.figure(figsize=(14, 6))\n",
    "plt.plot(df.index, df['temperature'], label='Temperature')\n",
    "plt.plot(df.index, df['vibration'], label='Vibration')\n",
    "plt.plot(df.index, df['pressure'], label='Pressure')\n",
    "plt.title(\"Sensor Data Trends Over Time\")\n",
    "plt.xlabel(\"Timestamp\")\n",
    "plt.ylabel(\"Sensor Values\")\n",
    "plt.legend()\n",
    "plt.tight_layout()\n",
    "plt.show()\n",
    "# 📊 Correlation Matrix\n"
   ]
  },
  {
   "cell_type": "code",
   "execution_count": null,
   "id": "8052c613",
   "metadata": {},
   "outputs": [],
   "source": [
    "# Highlight failure zones\n",
    "plt.figure(figsize=(10, 8))\n",
    "sns.heatmap(df.corr(), annot=True, cmap='coolwarm', center=0)\n",
    "plt.title(\"Correlation Matrix of Sensor Data\")\n",
    "plt.show()\n",
    "# 📉 Anomaly Detection using Isolation Forest\n",
    "plt.figure(figsize=(14, 4))\n",
    "plt.plot(df.index, df['temperature'], label='Temperature')\n",
    "plt.fill_between(df.index, df['temperature'], 78, where=(df['temperature'] > 78),\n",
    "                 color='red', alpha=0.3, label='Failure Risk Zone')\n",
    "plt.axhline(78, color='red', linestyle='--', label='Failure Threshold')\n",
    "plt.title(\"Temperature Failures (>78°F)\")\n",
    "plt.xlabel(\"Timestamp\")\n",
    "plt.ylabel(\"Temperature\")\n",
    "plt.legend()\n",
    "plt.show()\n",
    "\n"
   ]
  },
  {
   "cell_type": "code",
   "execution_count": null,
   "id": "f18e1a27",
   "metadata": {},
   "outputs": [],
   "source": [
    "# 🎯 Isolation Forest for Anomaly Detection\n",
    "features = df[[\"temperature\", \"vibration\", \"pressure\"]]\n",
    "\n",
    "# Fit the model\n",
    "iso = IsolationForest(contamination=0.05, random_state=42)\n",
    "df[\"anomaly_score\"] = iso.fit_predict(features)\n",
    "\n",
    "# Mark anomalies\n",
    "df[\"is_anomaly\"] = df[\"anomaly_score\"].apply(lambda x: 1 if x == -1 else 0)\n",
    "df[\"is_anomaly\"].value_counts()\n",
    "# Plot anomalies\n"
   ]
  },
  {
   "cell_type": "code",
   "execution_count": null,
   "id": "445cebf4",
   "metadata": {},
   "outputs": [],
   "source": [
    "# 📌 Plot detected anomalies on temperature chart\n",
    "plt.figure(figsize=(14, 4))\n",
    "plt.plot(df.index, df[\"temperature\"], label=\"Temperature\", color=\"blue\")\n",
    "plt.scatter(df[df[\"is_anomaly\"] == 1].index,\n",
    "            df[df[\"is_anomaly\"] == 1][\"temperature\"],\n",
    "            color=\"red\", label=\"Anomaly\", s=40)\n",
    "plt.title(\"Anomaly Detection on Temperature Data\")\n",
    "plt.xlabel(\"Timestamp\")\n",
    "plt.ylabel(\"Temperature\")\n",
    "plt.legend()\n",
    "plt.show()\n",
    "# 📊 Correlation Matrix\n"
   ]
  },
  {
   "cell_type": "code",
   "execution_count": null,
   "id": "fc50e7ea",
   "metadata": {},
   "outputs": [],
   "source": [
    "# 💾 Save the output (optional)\n",
    "df.to_csv(\"../data/processed_sensor_data.csv\")\n",
    "# The above code processes sensor data, visualizes trends, highlights failure zones,\n",
    "# and applies an Isolation Forest model to detect anomalies in the data.\n",
    "# The processed data is saved to a new CSV file for further analysis or reporting.\n",
    "# This code is a simple example of how to analyze and visualize sensor data,\n",
    "# and can be expanded with more sophisticated models or additional features as needed.\n",
    "# The code can be further enhanced by adding more visualizations,\n",
    "# tuning the Isolation Forest parameters, or integrating with real-time data streams.\n",
    "# It serves as a foundational step in building a comprehensive data analysis pipeline\n",
    "# for sensor data, which can be applied in various domains such as manufacturing,\n",
    "# IoT, and predictive maintenance."
   ]
  }
 ],
 "metadata": {
  "kernelspec": {
   "display_name": "Python 3",
   "language": "python",
   "name": "python3"
  },
  "language_info": {
   "name": "python",
   "version": "3.13.1"
  }
 },
 "nbformat": 4,
 "nbformat_minor": 5
}
