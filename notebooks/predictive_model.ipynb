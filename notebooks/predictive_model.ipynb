{
 "cells": [
  {
   "cell_type": "code",
   "execution_count": null,
   "id": "be21a46e",
   "metadata": {},
   "outputs": [],
   "source": [
    "# 📦 Core Libraries\n",
    "import pandas as pd\n",
    "import numpy as np\n",
    "import matplotlib.pyplot as plt\n",
    "import seaborn as sns\n",
    "from sklearn.ensemble import IsolationForest\n",
    "import warnings\n",
    "\n",
    "warnings.filterwarnings('ignore')\n",
    "sns.set(style=\"darkgrid\")\n"
   ]
  },
  {
   "cell_type": "code",
   "execution_count": null,
   "id": "59ce17ee",
   "metadata": {},
   "outputs": [],
   "source": [
    "# 📂 Load sensor data\n",
    "df = pd.read_csv(\"../data/sensor_data.csv\", parse_dates=[\"timestamp\"])\n",
    "df.set_index(\"timestamp\", inplace=True)\n",
    "\n",
    "# Quick overview\n",
    "df.head()\n"
   ]
  },
  {
   "cell_type": "code",
   "execution_count": null,
   "id": "57d2c873",
   "metadata": {},
   "outputs": [],
   "source": [
    "# Summary statistics\n",
    "df.describe()\n"
   ]
  },
  {
   "cell_type": "code",
   "execution_count": null,
   "id": "bd7aee1a",
   "metadata": {},
   "outputs": [],
   "source": [
    "# 📈 Sensor Trends\n",
    "plt.figure(figsize=(14, 6))\n",
    "plt.plot(df.index, df['temperature'], label='Temperature')\n",
    "plt.plot(df.index, df['vibration'], label='Vibration')\n",
    "plt.plot(df.index, df['pressure'], label='Pressure')\n",
    "plt.title(\"Sensor Data Trends Over Time\")\n",
    "plt.xlabel(\"Timestamp\")\n",
    "plt.ylabel(\"Sensor Values\")\n",
    "plt.legend()\n",
    "plt.tight_layout()\n",
    "plt.show()\n"
   ]
  },
  {
   "cell_type": "code",
   "execution_count": null,
   "id": "8052c613",
   "metadata": {},
   "outputs": [],
   "source": [
    "# Highlight failure zones\n",
    "plt.figure(figsize=(14, 4))\n",
    "plt.plot(df.index, df['temperature'], label='Temperature')\n",
    "plt.fill_between(df.index, df['temperature'], 78, where=(df['temperature'] > 78),\n",
    "                 color='red', alpha=0.3, label='Failure Risk Zone')\n",
    "plt.axhline(78, color='red', linestyle='--', label='Failure Threshold')\n",
    "plt.title(\"Temperature Failures (>78°F)\")\n",
    "plt.xlabel(\"Timestamp\")\n",
    "plt.ylabel(\"Temperature\")\n",
    "plt.legend()\n",
    "plt.show()\n"
   ]
  }
 ],
 "metadata": {},
 "nbformat": 4,
 "nbformat_minor": 5
}